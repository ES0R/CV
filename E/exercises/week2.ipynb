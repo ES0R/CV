{
 "cells": [
  {
   "cell_type": "code",
   "execution_count": 1,
   "metadata": {},
   "outputs": [],
   "source": [
    "import utils\n",
    "import numpy as np\n",
    "from cv2 import *\n",
    "import numpy as np\n",
    "import matplotlib.pyplot as plt\n",
    "import itertools as it\n"
   ]
  },
  {
   "cell_type": "code",
   "execution_count": 2,
   "metadata": {},
   "outputs": [],
   "source": [
    "def box3d(n=16):\n",
    "    points = []\n",
    "    N = tuple(np.linspace(-1, 1, n))\n",
    "    for i, j in [(-1, -1), (-1, 1), (1, 1), (0, 0)]:\n",
    "        points.extend(set(it.permutations([(i, )*n, (j, )*n, N])))\n",
    "    return np.hstack(points)/2\n",
    "\n",
    "def projectpoints(K,R,t,Q):\n",
    "    \n",
    "    t = np.transpose([t])\n",
    "    H = np.concatenate((R,t),axis=1)\n",
    "    Q = PiInv(Q)\n",
    "\n",
    "    return K@H@Q\n",
    "def Pi(ph):\n",
    "    p = ph[:-1]/ph[-1]\n",
    "    return p\n",
    "\n",
    "def PiInv(p):\n",
    "\n",
    "    H = np.shape(p)[1]\n",
    "    homo = np.ones((1, H))\n",
    "    ph = np.concatenate((p,homo),axis = 0)\n",
    "    return ph\n",
    "\n",
    "def matrix(K,R,t):\n",
    "    t = np.transpose([t])\n",
    "    H = np.concatenate((R,t),axis=1)\n",
    "    return K@H\n",
    "\n",
    "\n"
   ]
  },
  {
   "cell_type": "code",
   "execution_count": 3,
   "metadata": {},
   "outputs": [
    {
     "name": "stdout",
     "output_type": "stream",
     "text": [
      "[100. 220.   1.]\n",
      "[[600.    0.  400.  600. ]\n",
      " [  0.  600.  400.  720. ]\n",
      " [  0.    0.    1.    1.5]]\n"
     ]
    }
   ],
   "source": [
    "# Exercise 2.1\n",
    "f = 600\n",
    "dx = 400\n",
    "dy = 400\n",
    "alpha = 1\n",
    "beta = 0\n",
    "\n",
    "K = np.array([[f, f*beta , dx],[0,f*alpha, dy],[0,0,1]])\n",
    "R = np.diag([1,1,1])\n",
    "t = np.array([0,0.2,1.5])\n",
    "Q = np.array(box3d())\n",
    "\n",
    "\n",
    "\n",
    "print(projectpoints(K,R,t,Q)[:,0])\n",
    "\n",
    "print(matrix(K,R,t))\n",
    "\n"
   ]
  },
  {
   "cell_type": "code",
   "execution_count": 4,
   "metadata": {},
   "outputs": [
    {
     "data": {
      "text/plain": [
       "<matplotlib.collections.PathCollection at 0x1d2ea1180d0>"
      ]
     },
     "execution_count": 4,
     "metadata": {},
     "output_type": "execute_result"
    },
    {
     "data": {
      "image/png": "[encoded data removed]",
      "text/plain": [
       "<Figure size 432x288 with 1 Axes>"
      ]
     },
     "metadata": {
      "needs_background": "light"
     },
     "output_type": "display_data"
    }
   ],
   "source": [
    "# Exercise 2.2\n",
    "\n",
    "def delta_r(r,k3): \n",
    "    return k3*r**2\n",
    "\n",
    "def project_distort(K,R,t,Q,k3):\n",
    "    t = np.transpose([t])\n",
    "    H = np.concatenate((R,t),axis=1)\n",
    "    P = Pi(H@PiInv(Q))\n",
    "    x = P[0,:]\n",
    "    y = P[1,:]\n",
    "    r = np.sqrt(x**2 + y**2)\n",
    "    dist = 1 + k3*r**2\n",
    "    undistorted_points = np.zeros_like(P)\n",
    "    undistorted_points[0,:] = x * dist\n",
    "    undistorted_points[1,:] = y * dist\n",
    "    return K@PiInv(undistorted_points)\n",
    "\n",
    "box = project_distort(K,R,t,Q,k3=-0.2)\n",
    "\n",
    "\n",
    "plt.scatter(box[0],box[1])\n",
    "\n",
    "\n"
   ]
  },
  {
   "cell_type": "code",
   "execution_count": 23,
   "metadata": {},
   "outputs": [
    {
     "name": "stdout",
     "output_type": "stream",
     "text": [
      "[[875.00544   0.      960.     ]\n",
      " [  0.      875.00544 540.     ]\n",
      " [  0.        0.        1.     ]]\n"
     ]
    }
   ],
   "source": [
    "# Exercise 2.3\n",
    "\n",
    "import cv2\n",
    "\n",
    "im = cv2.imread(\"gopro_robot.jpg\")\n",
    "im = im[:,:,::-1]\n",
    "im = im.astype(float)/255\n",
    "\n",
    "f = im.shape[1]*0.455732\n",
    "deltax = im.shape[1]/2\n",
    "deltay = im.shape[0]/2\n",
    "alpha = 1\n",
    "beta = 0\n",
    "\n",
    "K = np.array([[f, f*beta , deltax],[0,f*alpha, deltay],[0,0,1]])\n",
    "\n",
    "print(K)\n",
    "\n",
    "\n",
    "\n"
   ]
  },
  {
   "cell_type": "code",
   "execution_count": 34,
   "metadata": {},
   "outputs": [],
   "source": [
    "# Exercise 2.4\n",
    "\n",
    "\n",
    "def undistortImage(im,K,k3,k5,k7):\n",
    "    x, y = np.meshgrid(np.arange(im.shape[1]), np.arange(im.shape[0]))\n",
    "    p = np.stack((x, y, np.ones(x.shape))).reshape(3, -1)\n",
    "\n",
    "    q = Pi(np.linalg.inv(K)@p)\n",
    "\n",
    "    x1 = q[0,:]\n",
    "    y1 = q[1,:]\n",
    "    r = np.sqrt(x1**2 + y1**2)\n",
    "    dist = 1 + k3*r**2\n",
    "    q_d = np.zeros_like(q)\n",
    "    q_d[0,:] = x1 * dist\n",
    "    q_d[1,:] = y1 * dist\n",
    "\n",
    "    p_d = K@PiInv(q_d)\n",
    "\n",
    "    x_d = p_d[0].reshape(x.shape).astype(np.float32)\n",
    "    y_d = p_d[1].reshape(y.shape).astype(np.float32)\n",
    "\n",
    "    assert (p_d[2]==1).all(), 'You did a mistake somewhere'\n",
    "    im_undistorted = cv2.remap(im, x_d, y_d, cv2.INTER_LINEAR)\n",
    "    return im_undistorted\n",
    "\n",
    "k3=-0.245031\n",
    "k5=0.071524\n",
    "k7=-0.00994978\n",
    "im_undistorted = undistortImage(im, K, k3, k5, k7)\n",
    "im_undistorted = im_undistorted[:,:,::-1]\n",
    "cv2.imshow(\"Undistorted Image\", im_undistorted)\n",
    "\n"
   ]
  },
  {
   "cell_type": "code",
   "execution_count": 73,
   "metadata": {},
   "outputs": [
    {
     "name": "stdout",
     "output_type": "stream",
     "text": [
      "[-0.33333333 -0.33333333]\n",
      "[ 0.33333333 -2.        ]\n",
      "[-1.         -1.33333333]\n",
      "[-1. -2.]\n"
     ]
    }
   ],
   "source": [
    "# Exercise 2.5\n",
    "H = np.array([[-2, 0,1],[1,-2,0],[0,0,3]])\n",
    "P = np.array([[1,1],[0,3],[2,3],[2,4]])\n",
    "P = PiInv(P.T).T\n",
    "\n",
    "for p in P:\n",
    "    print(Pi(H@p))\n",
    "\n",
    "\n"
   ]
  },
  {
   "cell_type": "code",
   "execution_count": 102,
   "metadata": {},
   "outputs": [
    {
     "name": "stdout",
     "output_type": "stream",
     "text": [
      "[[-4.58831468e-01 -1.14054254e-16  2.29415734e-01]\n",
      " [ 2.29415734e-01 -4.58831468e-01 -2.02614035e-17]\n",
      " [-3.10947911e-16  2.30285813e-16  6.88247202e-01]]\n"
     ]
    }
   ],
   "source": [
    "# Exercise 2.6\n",
    "def hest(q1,q2):\n",
    "    Q1 = np.array([[0, -1, q1[1]],[1,0,-q1[0]],[-q1[1],q1[0],0]])\n",
    "    B = np.kron(Q1,q2)\n",
    "    U, S, V = np.linalg.svd(B)\n",
    "    H = V[-1,:].reshape((3,3))\n",
    "    return H\n",
    "\n",
    "q1 = np.array([1,1])\n",
    "q2 = np.array([0,3])\n",
    "\n",
    "\n",
    "def hest1(q1, q2):\n",
    "    N = q1.shape[1]\n",
    "    A = np.zeros((2 * N, 9))\n",
    "    for i in range(N):\n",
    "        x, y = q1[0, i], q1[1, i]\n",
    "        u, v = q2[0, i], q2[1, i]\n",
    "        A[2 * i, :] = [x, y, 1, 0, 0, 0, -u * x, -u * y, -u]\n",
    "        A[2 * i + 1, :] = [0, 0, 0, x, y, 1, -v * x, -v * y, -v]\n",
    "    U, S, V = np.linalg.svd(A)\n",
    "    H = V[-1, :].reshape((3, 3))\n",
    "    return H\n",
    "\n",
    "H = np.array([[-2, 0,1],[1,-2,0],[0,0,3]])\n",
    "P = np.array([[1,0,2,2],[1,3,3,4]])\n",
    "\n",
    "Q = Pi(H@PiInv(P))\n",
    "\n",
    "print(hest1(P,Q)*4.35)"
   ]
  }
 ],
 "metadata": {
  "kernelspec": {
   "display_name": "base",
   "language": "python",
   "name": "python3"
  },
  "language_info": {
   "codemirror_mode": {
    "name": "ipython",
    "version": 3
   },
   "file_extension": ".py",
   "mimetype": "text/x-python",
   "name": "python",
   "nbconvert_exporter": "python",
   "pygments_lexer": "ipython3",
   "version": "3.8.8"
  },
  "orig_nbformat": 4,
  "vscode": {
   "interpreter": {
    "hash": "c238c9d30ef68eafba9d9c8a783187179ae927635ef9ffb6ae99fa0aea57322b"
   }
  }
 },
 "nbformat": 4,
 "nbformat_minor": 2
}
