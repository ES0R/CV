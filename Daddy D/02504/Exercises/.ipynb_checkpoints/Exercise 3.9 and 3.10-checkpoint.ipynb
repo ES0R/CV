{
 "cells": [
  {
   "cell_type": "code",
   "execution_count": 18,
   "metadata": {},
   "outputs": [],
   "source": [
    "import cv2\n",
    "import matplotlib.pyplot as plt\n",
    "import numpy as np\n",
    "from functions import box3d, Pi, PiInv, projectpoints, distprojectpoints\n",
    "from functions import undistortImage, normalize2d, hest, CrossOp, DrawLine\n",
    "from scipy.spatial.transform import Rotation"
   ]
  },
  {
   "cell_type": "code",
   "execution_count": 19,
   "metadata": {},
   "outputs": [],
   "source": [
    "data = np.load('TwoImageData.npy', allow_pickle=True).item()\n",
    "\n",
    "t2 = data[\"t2\"]\n",
    "\n",
    "R2 = data[\"R2\"]\n",
    "\n",
    "K = data[\"K\"]\n",
    "\n",
    "E = CrossOp(t2[:, 0])@R2\n",
    "\n",
    "F = np.transpose(np.linalg.inv(K))@E@np.linalg.inv(K)"
   ]
  },
  {
   "cell_type": "code",
   "execution_count": 25,
   "metadata": {},
   "outputs": [],
   "source": [
    "%matplotlib qt\n",
    "\n",
    "im1 = data[\"im1\"]\n",
    "im2 = data[\"im2\"]\n",
    "\n",
    "#im1 = (im1[:,:,::-1])\n",
    "im1 = im1.astype(float)/255\n",
    "\n",
    "#im2 = (im2[:,:,::-1])\n",
    "im2 = im2.astype(float)/255\n",
    "\n",
    "fig, (ax1, ax2) = plt.subplots(ncols=2, figsize=(10,5))\n",
    "\n",
    "ax1.imshow(im1)\n",
    "ax1.set_title('Image 1')\n",
    "\n",
    "ax2.imshow(im2)\n",
    "ax2.set_title('Image 2')\n",
    "\n",
    "plt.show()\n",
    "\n",
    "p = plt.ginput(1)\n",
    "p1 = np.array([p[0][0], p[0][1], 1])\n",
    "l2 = F @ p1\n",
    "DrawLine(l2, im2.shape)"
   ]
  },
  {
   "cell_type": "code",
   "execution_count": 29,
   "metadata": {},
   "outputs": [],
   "source": [
    "%matplotlib qt\n",
    "\n",
    "im1 = data[\"im1\"]\n",
    "im2 = data[\"im2\"]\n",
    "\n",
    "im1 = im1.astype(float)/255\n",
    "\n",
    "im2 = im2.astype(float)/255\n",
    "\n",
    "fig, (ax1, ax2) = plt.subplots(ncols=2, figsize=(10,5))\n",
    "\n",
    "ax1.imshow(im2)\n",
    "ax1.set_title('Image 2')\n",
    "\n",
    "ax2.imshow(im1)\n",
    "ax2.set_title('Image 1')\n",
    "\n",
    "plt.show()\n",
    "\n",
    "p = plt.ginput(1)\n",
    "p1 = np.array([p[0][0], p[0][1], 1])\n",
    "l2 = F @ p1\n",
    "DrawLine(l2, im1.shape)"
   ]
  },
  {
   "cell_type": "code",
   "execution_count": null,
   "metadata": {},
   "outputs": [],
   "source": []
  }
 ],
 "metadata": {
  "kernelspec": {
   "display_name": "Python 3 (ipykernel)",
   "language": "python",
   "name": "python3"
  },
  "language_info": {
   "codemirror_mode": {
    "name": "ipython",
    "version": 3
   },
   "file_extension": ".py",
   "mimetype": "text/x-python",
   "name": "python",
   "nbconvert_exporter": "python",
   "pygments_lexer": "ipython3",
   "version": "3.8.5"
  }
 },
 "nbformat": 4,
 "nbformat_minor": 4
}
