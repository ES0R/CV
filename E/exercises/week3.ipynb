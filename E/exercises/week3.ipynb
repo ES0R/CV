{
 "cells": [
  {
   "cell_type": "code",
   "execution_count": 4,
   "metadata": {},
   "outputs": [],
   "source": [
    "from utils import *\n",
    "import numpy as np\n",
    "from cv2 import *\n",
    "import numpy as np\n",
    "import matplotlib.pyplot as plt\n",
    "import itertools as it"
   ]
  },
  {
   "cell_type": "code",
   "execution_count": null,
   "metadata": {},
   "outputs": [],
   "source": [
    "K = np.array([[1000, 0, 300],[0, 1000, 200],[0,0,1]])\n",
    "R1 = np.identity(3)\n",
    "\n",
    "print(R1)"
   ]
  }
 ],
 "metadata": {
  "kernelspec": {
   "display_name": "Python 3",
   "language": "python",
   "name": "python3"
  },
  "language_info": {
   "codemirror_mode": {
    "name": "ipython",
    "version": 3
   },
   "file_extension": ".py",
   "mimetype": "text/x-python",
   "name": "python",
   "nbconvert_exporter": "python",
   "pygments_lexer": "ipython3",
   "version": "3.10.7"
  },
  "orig_nbformat": 4,
  "vscode": {
   "interpreter": {
    "hash": "701310a499f6b21d11263c5d21c2b0fdf07d1efe6340e0b7a316d6699c34d0fe"
   }
  }
 },
 "nbformat": 4,
 "nbformat_minor": 2
}
